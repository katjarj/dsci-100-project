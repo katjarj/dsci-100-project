{
 "cells": [
  {
   "cell_type": "markdown",
   "id": "2f0888e6-685d-4119-a104-907d413c2694",
   "metadata": {},
   "source": [
    "# DSCI 100 Term Project: Final Report\n"
   ]
  },
  {
   "cell_type": "markdown",
   "id": "863c3eda-773d-46b8-8f2e-ee4a448a2335",
   "metadata": {},
   "source": [
    "## Introduction \n",
    "---\n",
    "\n",
    "### Contributors (Group 010-5)\n",
    "\n",
    "- Abdullah Al Zahid — 58730219\n",
    "- Benson Huang — 21936661\n",
    "- Katja Radovic-Jonsson — 39575964\n",
    "- Millie Sun — 19927367\n",
    "\n",
    "### Purpose\n",
    "This project revolves around data collected by a research group in Computer Science at UBC, led by Frank Wood, surrounding how people play video games. The research team has set up a Minecraft server—which they call PLAICraft—that records players' actions as they navigate through the world. This project seeks to analyze the team's data to assist the researchers in targeting their recruitment efforts to the right audiences.\n",
    "\n",
    "### Question\n",
    "\n",
    "In this project, we are analyzing the data to answer the question: **Can a player's age predict the number of hours they spend playing PLAIcraft?**\n",
    "\n",
    "### Analyzing the Dataset\n",
    "\n",
    "To answer this question, we will be using data from the provided `players.csv` data set—specifically, we will need the `Age` and `played_hours` variables.\n",
    "\n",
    "First, we load in the data."
   ]
  },
  {
   "cell_type": "code",
   "execution_count": null,
   "id": "09b73d55-6a1e-4645-96d5-38cc89246b7e",
   "metadata": {},
   "outputs": [],
   "source": [
    "library(tidyverse)"
   ]
  },
  {
   "cell_type": "code",
   "execution_count": null,
   "id": "199b3183-d5d9-456b-8d72-9b594466f10d",
   "metadata": {},
   "outputs": [],
   "source": [
    "players <- read_csv(\"https://raw.githubusercontent.com/katjarj/dsci-100-project/refs/heads/main/players.csv\")"
   ]
  },
  {
   "cell_type": "code",
   "execution_count": null,
   "id": "1a1fcf89-0589-44e1-a04c-35f852d53c3d",
   "metadata": {},
   "outputs": [],
   "source": [
    "head(players)"
   ]
  },
  {
   "cell_type": "markdown",
   "id": "82cbac8c-caaa-45c6-a779-dfe0f809a4e4",
   "metadata": {},
   "source": [
    "Observing the `players.csv` data frame, we see that is has the following characteristics:\n",
    "\n",
    "**Rows (observations):** 196 \n",
    "\n",
    "**Columns (variables):** 7 \n",
    "\n",
    "**Variable names:** \n",
    "- `experience` \\<chr>: the level of Minecraft experience of the player\n",
    "- `subscribe` \\<lgl>: whether the player is subscribed\n",
    "- `hashedEmail` \\<chr>: a unique token given to the user based on their email\n",
    "- `played_hours` \\<dbl>: number of hours played\n",
    "- `name` \\<chr>: player's name\n",
    "- `gender` \\<chr>: player's gender\n",
    "- `Age` \\<dbl>: player's age\n",
    "\n",
    "**Potential issues:**\n",
    "- The `experience` column is a subjective measure of how advanced the player is—we don't know how accurate the values are.\n",
    "- We don't know the order in which the experience categories are sorted. For example, does Pro come before Veteran? We have no way of knowing.\n",
    "- There are some missing values in the `Age` data, which I will have to remove for my calculations.\n",
    "\n",
    "We can now compute summary statistics on each of the numeric columns, removing NA values as needed:"
   ]
  },
  {
   "cell_type": "code",
   "execution_count": null,
   "id": "8b16428f-96ae-49c5-baa4-b8afb096a570",
   "metadata": {},
   "outputs": [],
   "source": [
    "head(players)\n",
    "players$experience_num <- factor(players$experience, levels = c('Beginner', 'Amateur', 'Regular', 'Veteran', 'Pro')) |>\n",
    "as.numeric()\n",
    "players$subscribe_num <- factor(players$subscribe, levels = c(FALSE, TRUE)) |>\n",
    "as.numeric()\n",
    "players$gender_num <- factor(players$gender) |> as.numeric()\n",
    "\n",
    "cor(players |> select(played_hours, experience_num, subscribe_num, Age, gender_num) |> drop_na(), method = \"spearman\")"
   ]
  },
  {
   "cell_type": "code",
   "execution_count": null,
   "id": "4decd2db-941c-4a6a-903a-28fa163e3f72",
   "metadata": {},
   "outputs": [],
   "source": [
    "summary_stats_players <- players |>\n",
    "    summarize(avg_played_hours = mean(played_hours),\n",
    "              max_played_hours = max(played_hours),\n",
    "              min_played_hours = min(played_hours),\n",
    "              avg_age = mean(Age, na.rm = TRUE),\n",
    "              max_age = max(Age, na.rm = TRUE),\n",
    "              min_age = min(Age, na.rm = TRUE))\n",
    "summary_stats_players"
   ]
  },
  {
   "cell_type": "markdown",
   "id": "8df28b19-2494-488a-815e-c7160d4cbcb0",
   "metadata": {},
   "source": [
    "We can now see that the mean, maximum, and minimum values of `played_hours` are 5.845918, 223.1, and 0, respectively."
   ]
  },
  {
   "cell_type": "markdown",
   "id": "5b6a4bbe-559a-424c-a1a2-b12fee67a300",
   "metadata": {},
   "source": [
    "## Methods\n",
    "---"
   ]
  },
  {
   "cell_type": "markdown",
   "id": "71dffa8c-123d-4530-9c37-ba699968ac30",
   "metadata": {},
   "source": [
    "In order to understand how we need to analyze the data, we need to clean and wrangle the data and perform an exploratory analysis on it.\n",
    "\n",
    "### Wrangling\n",
    "\n",
    "We begin by wrangling the data such that it can be easily visualized and analyzed."
   ]
  },
  {
   "cell_type": "code",
   "execution_count": null,
   "id": "772727a4-f371-4b87-bd5a-ed3b0f259d7e",
   "metadata": {},
   "outputs": [],
   "source": [
    "players_wrangled <- players |>\n",
    "    rename(age = Age) |>\n",
    "    drop_na()\n",
    "head(players_wrangled)"
   ]
  },
  {
   "cell_type": "markdown",
   "id": "5a39728d-9c91-4b39-8f90-769c50e97377",
   "metadata": {},
   "source": [
    "We did this by renaming `Age` to `age` for better consistency, and omitting NA values in the data.\n",
    "\n",
    "The `players.csv` data is now ready for visualization."
   ]
  },
  {
   "cell_type": "markdown",
   "id": "dc2aa54d-fb3f-499f-8340-bec8b8dd47fc",
   "metadata": {},
   "source": [
    "### Exploratory Visualization\n",
    "\n",
    "To explore this data set, we created a scatter plot of the players' ages and their respective time spent playing the game."
   ]
  },
  {
   "cell_type": "code",
   "execution_count": null,
   "id": "6a2fe14b-f939-4052-96be-6c3ab0db0520",
   "metadata": {},
   "outputs": [],
   "source": [
    "players_plot <- players_wrangled |>\n",
    "    ggplot(aes(x = age, y = played_hours)) +\n",
    "    geom_point() +\n",
    "    xlab(\"Player Age\") +\n",
    "    ylab(\"Hours Played\") +\n",
    "    labs(caption = \"Figure 1\") +\n",
    "    ggtitle(\"Time spent playing PLAIcraft vs. player age\") +\n",
    "    theme(text = element_text(size = 15))\n",
    "players_plot"
   ]
  },
  {
   "cell_type": "markdown",
   "id": "1259b797-b404-4af3-94c0-1c574d2e0109",
   "metadata": {},
   "source": [
    "We can see from Figure 1 that there is a large spike in the number of hours played somewhere between ages 15 and 20. "
   ]
  },
  {
   "cell_type": "markdown",
   "id": "1f3b4154-9878-4e22-9e52-84a843c27c2a",
   "metadata": {},
   "source": [
    "We also created a histogram of the distribution of player ages across the data set, which gives us a better idea of how the data is skewed."
   ]
  },
  {
   "cell_type": "code",
   "execution_count": null,
   "id": "badf07e6-69fa-48b0-8570-18a6bbd30004",
   "metadata": {},
   "outputs": [],
   "source": [
    "players_hist <- players_wrangled |>\n",
    "    ggplot(aes(x = age)) +\n",
    "    geom_histogram(binwidth = 1) +\n",
    "    xlab(\"Player Age\") +\n",
    "    ylab(\"Number of Individuals\") +\n",
    "    labs(caption = \"Figure 2\") + \n",
    "    ggtitle(\"Number of participants by player age\") +\n",
    "    theme(text = element_text(size = 15))\n",
    "players_hist"
   ]
  },
  {
   "cell_type": "markdown",
   "id": "ade6b81a-4743-48fc-b6d1-137eff7fe6fe",
   "metadata": {},
   "source": [
    "Figure 2 tells us that there is significantly more data from users around the age of 17. This is something we may need to consider when performing our data analysis."
   ]
  },
  {
   "cell_type": "markdown",
   "id": "1f727921-19aa-4dc6-9e61-7f4ce50defd8",
   "metadata": {},
   "source": [
    "### Data Analysis"
   ]
  },
  {
   "cell_type": "markdown",
   "id": "de081ecd-0a3d-4aa8-9001-7cdfad00dd8d",
   "metadata": {},
   "source": [
    "Due to the nonlinear, numerical nature of the data we're trying to find, we decided to use KNN regression for our data analysis. We first set a seed for reproducibility purposes, then perform the analysis."
   ]
  },
  {
   "cell_type": "code",
   "execution_count": null,
   "id": "2101eb06-9b12-49fd-ac56-46aadf53fc96",
   "metadata": {},
   "outputs": [],
   "source": [
    "library(tidymodels)\n",
    "\n",
    "# Set seed for reproducibility\n",
    "set.seed(123)\n",
    "\n",
    "# Split data into training (75%) and testing (25%) sets.\n",
    "# Stratify by played_hours to maintain a similar distribution in both sets.\n",
    "player_split <- initial_split(players_wrangled, prop = 0.75, strata = played_hours)\n",
    "player_train <- training(player_split)\n",
    "player_test <- testing(player_split)\n",
    "\n",
    "# Create a recipe to preprocess the data.\n",
    "# Here we center and scale the predictor 'age'.\n",
    "player_recipe <- recipe(played_hours ~ age, data = player_train) |>\n",
    "  step_scale(all_predictors()) |>\n",
    "  step_center(all_predictors())\n",
    "\n",
    "# Model Specification with Tuning\n",
    "player_spec <- nearest_neighbor(weight_func = \"rectangular\",\n",
    "                              neighbors = tune()) |>\n",
    "  set_engine(\"kknn\") |>\n",
    "  set_mode(\"regression\")\n",
    "\n",
    "# Resampling Strategy\n",
    "player_vfold <- vfold_cv(player_train, v = 5, strata = played_hours)\n",
    "\n",
    "# Create Workflow\n",
    "player_wkflw <- workflow() |>\n",
    "  add_recipe(player_recipe) |>\n",
    "  add_model(player_spec)\n",
    "\n",
    "player_wkflw"
   ]
  },
  {
   "cell_type": "code",
   "execution_count": null,
   "id": "2a9e6f18-cb48-44be-b4ec-198b238227bf",
   "metadata": {},
   "outputs": [],
   "source": [
    "# Model Tuning\n",
    "gridvals <- tibble(neighbors = seq(from = 1, to = 110, by = 3))\n",
    "\n",
    "# Collect RMSE metrics from tuning results\n",
    "player_results <- player_wkflw |>\n",
    "  tune_grid(resamples = player_vfold, grid = gridvals) |>\n",
    "  collect_metrics() |>\n",
    "  filter(.metric == \"rmse\")\n",
    "\n",
    "player_results"
   ]
  },
  {
   "cell_type": "code",
   "execution_count": null,
   "id": "95f953cd-a6f8-4665-a152-be60a0456d64",
   "metadata": {},
   "outputs": [],
   "source": [
    "# show only the row of minimum RMSPE\n",
    "player_min <- player_results |>\n",
    "  filter(mean == min(mean))\n",
    "\n",
    "player_min"
   ]
  },
  {
   "cell_type": "code",
   "execution_count": null,
   "id": "75af7d09-be8b-4016-ae66-c4eb94fde897",
   "metadata": {},
   "outputs": [],
   "source": [
    "# Extract the best number of neighbors (k) that minimizes the RMSE\n",
    "kmin <- player_min |> pull(neighbors)\n",
    "\n",
    "# Final Model Training\n",
    "player_spec <- nearest_neighbor(weight_func = \"rectangular\", neighbors = kmin) |>\n",
    "  set_engine(\"kknn\") |>\n",
    "  set_mode(\"regression\")\n",
    "\n",
    "# Fit the final workflow on the training data\n",
    "player_fit <- workflow() |>\n",
    "  add_recipe(player_recipe) |>\n",
    "  add_model(player_spec) |>\n",
    "  fit(data = player_train)\n",
    "\n",
    "# Model Evaluation on Test Data\n",
    "player_summary <- player_fit |>\n",
    "  predict(player_test) |>\n",
    "  bind_cols(player_test) |>\n",
    "  metrics(truth = played_hours, estimate = .pred) |>\n",
    "  filter(.metric %in% c('rmse', 'rsq'))\n",
    "\n",
    "player_summary"
   ]
  },
  {
   "cell_type": "code",
   "execution_count": null,
   "id": "fa88d4df-2265-4a5d-b739-d99ae1d78e18",
   "metadata": {},
   "outputs": [],
   "source": [
    "# Generate Prediction Grid for Visualization\n",
    "played_hours_prediction_grid <- tibble(\n",
    "    age = seq(\n",
    "        from = players_wrangled |> pull(age) |> min(na.rm = TRUE),\n",
    "        to = players_wrangled |> pull(age) |> max(na.rm = TRUE),\n",
    "    )\n",
    ")\n",
    "\n",
    "player_preds <- player_fit |>\n",
    "  predict(played_hours_prediction_grid) |>\n",
    "  bind_cols(played_hours_prediction_grid)\n",
    "\n",
    "# Plot Actual Data and Predictions\n",
    "player_preds <- player_fit |>\n",
    "  predict(player_test %>% select(age) %>% tibble()) |>\n",
    "  bind_cols(player_test %>% select(age) %>% tibble())\n",
    "\n",
    "plot_final <- ggplot(player_test, aes(x = age, y = played_hours)) + \n",
    "  geom_line(color = \"black\", \n",
    "           linewidth = 1.2) +\n",
    "  geom_point(alpha = 0.4, \n",
    "            fill = \"orange\", \n",
    "            shape = 23, \n",
    "            size = 4) +\n",
    "\n",
    "  geom_line(data = player_preds,\n",
    "            mapping = aes(x = age, y = .pred),\n",
    "            color = \"blue\",\n",
    "            alpha = 0.5, \n",
    "            linewidth = 1) +\n",
    " geom_point(data = player_preds,\n",
    "            mapping = aes(x = age, y = .pred),\n",
    "            color = \"blue\", \n",
    "            alpha = 0.8) + \n",
    "  xlab(\"player Age\") +\n",
    "  ylab(\"Hours played\") +\n",
    "  ggtitle(\"predict played hours\") +\n",
    "  theme(text = element_text(size = 12))\n",
    "plot_final"
   ]
  },
  {
   "cell_type": "code",
   "execution_count": null,
   "id": "eee6f9e6-0f41-4b31-befc-d0c0cc663ad1",
   "metadata": {},
   "outputs": [],
   "source": [
    "# head(player_preds)\n",
    "# head(player_test) |> \n",
    "# select(played_hours, age)\n",
    "cbind(player_preds, player_test |> select(played_hours)) |> \n",
    "mutate(abs_diff = abs(.pred - played_hours)) |>\n",
    "ggplot(aes(x = age, y = abs_diff)) + \n",
    "    geom_line() +\n",
    "    geom_point()"
   ]
  },
  {
   "cell_type": "code",
   "execution_count": null,
   "id": "d96599e1-0f57-4971-96ed-1460344e0aa4",
   "metadata": {},
   "outputs": [],
   "source": [
    "mean(player_preds$.pred)"
   ]
  },
  {
   "cell_type": "markdown",
   "id": "f209cd9e-3ed2-4601-a920-b05a1df93667",
   "metadata": {},
   "source": [
    "We will compare this model to two other models as well.\n",
    "\n",
    "---\n",
    "\n",
    "#### Model 2: Age + subscribe"
   ]
  },
  {
   "cell_type": "code",
   "execution_count": null,
   "id": "c14d123d-def6-4cb5-aa77-6c15bf772916",
   "metadata": {},
   "outputs": [],
   "source": [
    "head(player_train)\n",
    "# Create a recipe to preprocess the data.\n",
    "# Here we center and scale the predictor 'age'.\n",
    "model2_recipe <- recipe(played_hours ~ age + subscribe_num, data = player_train) |>\n",
    "  step_scale(all_predictors()) |>\n",
    "  step_center(all_predictors())\n",
    "\n",
    "# Model Specification with Tuning\n",
    "model2_spec <- nearest_neighbor(weight_func = \"rectangular\",\n",
    "                              neighbors = tune()) |>\n",
    "  set_engine(\"kknn\") |>\n",
    "  set_mode(\"regression\")\n",
    "\n",
    "# Resampling Strategy\n",
    "model2_vfold <- vfold_cv(player_train, v = 5, strata = played_hours)\n",
    "\n",
    "# Create Workflow\n",
    "model2_wkflw <- workflow() |>\n",
    "  add_recipe(model2_recipe) |>\n",
    "  add_model(model2_spec)\n",
    "\n",
    "model2_wkflw"
   ]
  },
  {
   "cell_type": "code",
   "execution_count": null,
   "id": "de96b1c7-a6c4-474d-8861-2e88f8b81d0c",
   "metadata": {},
   "outputs": [],
   "source": [
    "# Model Tuning\n",
    "model2_grid <- tibble(neighbors = seq(from = 1, to = 30, by = 3))\n",
    "\n",
    "# Collect RMSE metrics from tuning results\n",
    "model2_results <- model2_wkflw |>\n",
    "  tune_grid(resamples = model2_vfold, grid = model2_grid) |>\n",
    "  collect_metrics() |>\n",
    "  filter(.metric == \"rmse\") |>\n",
    "  arrange(mean)\n",
    "\n",
    "model2_results"
   ]
  },
  {
   "cell_type": "code",
   "execution_count": null,
   "id": "f6a03f41-39f2-4666-b8b7-903e48076928",
   "metadata": {},
   "outputs": [],
   "source": [
    "# Final Model Training\n",
    "model2_tuned_spec <- nearest_neighbor(weight_func = \"rectangular\", neighbors = 1) |>\n",
    "  set_engine(\"kknn\") |>\n",
    "  set_mode(\"regression\")\n",
    "\n",
    "# Fit the final workflow on the training data\n",
    "model2_fit <- workflow() |>\n",
    "  add_recipe(model2_recipe) |>\n",
    "  add_model(model2_tuned_spec) |>\n",
    "  fit(data = player_train)\n",
    "\n",
    "# Model Evaluation on Test Data\n",
    "model2_summary <- model2_fit |>\n",
    "  predict(player_test) |>\n",
    "  bind_cols(player_test) |>\n",
    "  metrics(truth = played_hours, estimate = .pred) |>\n",
    "  filter(.metric %in% c('rmse', 'rsq'))\n",
    "\n",
    "model2_summary\n",
    "player_summary"
   ]
  },
  {
   "cell_type": "markdown",
   "id": "39ddc5e7-a038-4ad6-81c2-b56b65a7a48b",
   "metadata": {},
   "source": [
    "---\n",
    "\n",
    "#### Model 3: age + subscribe + gender"
   ]
  },
  {
   "cell_type": "code",
   "execution_count": null,
   "id": "7e9edc76-4eaf-488e-99f0-0eea3abbd784",
   "metadata": {},
   "outputs": [],
   "source": [
    "head(player_train)\n",
    "# Create a recipe to preprocess the data.\n",
    "# Here we center and scale the predictor 'age'.\n",
    "model3_recipe <- recipe(played_hours ~ age + subscribe_num + gender_num, data = player_train) |>\n",
    "  step_scale(all_predictors()) |>\n",
    "  step_center(all_predictors())\n",
    "\n",
    "# Model Specification with Tuning\n",
    "model3_spec <- nearest_neighbor(weight_func = \"rectangular\",\n",
    "                              neighbors = tune()) |>\n",
    "  set_engine(\"kknn\") |>\n",
    "  set_mode(\"regression\")\n",
    "\n",
    "# Resampling Strategy\n",
    "model3_vfold <- vfold_cv(player_train, v = 5, strata = played_hours)\n",
    "\n",
    "# Create Workflow\n",
    "model3_wkflw <- workflow() |>\n",
    "  add_recipe(model3_recipe) |>\n",
    "  add_model(model3_spec)\n",
    "\n",
    "model3_wkflw"
   ]
  },
  {
   "cell_type": "code",
   "execution_count": null,
   "id": "5887d7ad-f32f-4a95-9bbe-66662b61daf1",
   "metadata": {},
   "outputs": [],
   "source": [
    "# Model Tuning\n",
    "model3_grid <- tibble(neighbors = seq(from = 1, to = 30, by = 3))\n",
    "\n",
    "# Collect RMSE metrics from tuning results\n",
    "model3_results <- model3_wkflw |>\n",
    "  tune_grid(resamples = model3_vfold, grid = model3_grid) |>\n",
    "  collect_metrics() |>\n",
    "  filter(.metric == \"rmse\") |>\n",
    "  arrange(mean)\n",
    "\n",
    "model3_results"
   ]
  },
  {
   "cell_type": "code",
   "execution_count": null,
   "id": "41467ec4-0f68-48ba-a2a2-0e23bb2cca81",
   "metadata": {},
   "outputs": [],
   "source": [
    "# Final Model Training\n",
    "model3_tuned_spec <- nearest_neighbor(weight_func = \"rectangular\", neighbors = 22) |>\n",
    "  set_engine(\"kknn\") |>\n",
    "  set_mode(\"regression\")\n",
    "\n",
    "# Fit the final workflow on the training data\n",
    "model3_fit <- workflow() |>\n",
    "  add_recipe(model3_recipe) |>\n",
    "  add_model(model3_tuned_spec) |>\n",
    "  fit(data = player_train)\n",
    "\n",
    "# Model Evaluation on Test Data\n",
    "model3_summary <- model3_fit |>\n",
    "  predict(player_test) |>\n",
    "  bind_cols(player_test) |>\n",
    "  metrics(truth = played_hours, estimate = .pred) |>\n",
    "  filter(.metric == 'rmse')\n",
    "\n",
    "player_summary\n",
    "model2_summary\n",
    "model3_summary"
   ]
  },
  {
   "cell_type": "code",
   "execution_count": null,
   "id": "c1e96e36-95d4-4d66-a3e7-b6eb1323aaf4",
   "metadata": {},
   "outputs": [],
   "source": [
    "# prediction by age\n",
    "player_preds <- player_fit |>\n",
    "  predict(player_test %>% select(age)) |>\n",
    "  bind_cols(player_test %>% select(age, gender_num, subscribe_num, played_hours)) |> \n",
    "  rename(prediction_age = .pred, test_set = played_hours)\n",
    "\n",
    "# prediction by age and subscription\n",
    "model2_preds <- model2_fit |>\n",
    "  predict(player_test) |>\n",
    "  rename(prediction_age_subscribed = .pred)\n",
    "\n",
    "# prediction by age, subscription, and gender\n",
    "model3_preds <- model3_fit |>\n",
    "  predict(player_test) |>\n",
    "  rename(prediction_age_subscribed_gender = .pred)\n",
    "\n",
    "# combine into one data frame\n",
    "final_preds <- cbind(player_preds, model2_preds) |> cbind(model3_preds)\n",
    "head(final_preds)\n",
    "\n",
    "plot_final <- ggplot(final_preds, aes(x = age, y = test_set)) + \n",
    "  geom_line(aes(color = \"test_set\"), \n",
    "           linewidth = 1.2) +\n",
    "  geom_point(alpha = 0.8, \n",
    "            fill = \"black\", \n",
    "            shape = 23, \n",
    "            size = 4) +\n",
    "  geom_line(aes(x = age, y = prediction_age, color = \"age\"),\n",
    "            alpha = 0.5, \n",
    "            linewidth = 1) +\n",
    "  geom_point(aes(x = age, y = prediction_age, color = \"age\"), \n",
    "            alpha = 0.8) + \n",
    "\n",
    "  geom_line(aes(x = age, y = prediction_age_subscribed, color = \"age + subscribe\"),\n",
    "            alpha = 0.5, \n",
    "            linewidth = 1) +\n",
    "  geom_point(aes(x = age, y = prediction_age_subscribed, color = \"age + subscribe\"), \n",
    "            alpha = 0.8) + \n",
    "\n",
    "  geom_line(aes(x = age, y = prediction_age_subscribed_gender, color = \"age + subscribe + gender\"),\n",
    "            alpha = 0.5, \n",
    "            linewidth = 1) +\n",
    "  geom_point(aes(x = age, y = prediction_age_subscribed_gender, color = \"age + subscribe + gender\"),\n",
    "            alpha = 0.8) + \n",
    "  scale_color_manual(values = c(\"test_set\" = \"black\", \"age\" = \"blue\", \"age + subscribe\" = \"red\", \"age + subscribe + gender\" = \"green\")) + \n",
    "  labs(title = \"predict played hours\", x = \"Player age\", y = \"Hours played\", color = \"Prediction model\") + \n",
    "  theme(text = element_text(size = 12))\n",
    "plot_final"
   ]
  },
  {
   "cell_type": "markdown",
   "id": "2f25b1da-3ee3-49aa-9e64-6ccdec24ec47",
   "metadata": {},
   "source": [
    "## Discussion\n",
    "---"
   ]
  },
  {
   "cell_type": "markdown",
   "id": "d2407dbb-cae5-4f38-afa2-5a5007d0f079",
   "metadata": {},
   "source": [
    "In this project, we investigated whether a player’s age could predict the number of hours they spend playing PLAICraft. Through our analysis, we found that age alone was a weak predictor of gameplay time. Adding additional variables such as subscription status and gender improved the model slightly, but not substantially. All models consistently underestimated the actual number of hours played, especially for younger players, such as the 9-year-old in the test set who logged over 160 hours—far more than predicted by any model.\n",
    "\n",
    "We also discovered that a large portion of our data consisted of players aged around 17, indicating a heavily skewed age distribution. This concentration likely biased the models toward average behavior within that group, limiting generalizability to other age ranges."
   ]
  },
  {
   "cell_type": "markdown",
   "id": "00dbb161-438f-42c1-a90a-aea337602caa",
   "metadata": {},
   "source": [
    "These results were not entirely what we expected. We hypothesized that age might have a clearer correlation with time spent playing; however, the data suggests that age alone is not sufficient to capture the complexity of player engagement. Other unmeasured factors—such as player motivation, free time availability, or interest in gaming—likely play a much larger role.\n"
   ]
  },
  {
   "cell_type": "markdown",
   "id": "191e4939-3f02-4c2b-9465-9e0b26a8da9a",
   "metadata": {},
   "source": [
    "These findings can have several impacts or implications, especially for game design, advertising and player engagement strategies. Next time while we are recruiting players, we can use the knowledge that age alone is not sufficient parameter to understand player behaviour. Rather, we need to consider including other behavioural characteristics such as session frequency, peak play times, motivation or play style preferences.\n",
    "\n",
    "This could also help researchers to focus more on other demographic traits to predict gaming experience, and those insights can help to inspire adaptive in-game experience or tutorials derived by actual involvement rather than age related guesses. Also, this study shows that oversimplification can lead to missing deeeper truths and it stresses the importance of diverse datasets from psychological perspective or contextual frameworks.\n",
    "\n",
    "This opens up many interesting questions, including what other factors might influence the gameplay time more effectively than age?, or can in-game behvorial data perform better predicting player engagement than the demographic information. Some other questions could be, how the engagement can change with time? Can there be any seasonal pattern? or can the player experience level be a factor in long-term engagement? Also, in future we can try using different prediction models to compare and see if they perform differently that KNN for this assignment."
   ]
  },
  {
   "cell_type": "markdown",
   "id": "d3097920-0a0b-4ad1-8efa-ccfdc872c52b",
   "metadata": {},
   "source": [
    "Ultimately, this analysis shows that while demographic data provides a useful starting point, it may not fully explain player behavior. Future work could benefit from additional variables like school schedule, device access, or in-game metrics to build more accurate and meaningful models."
   ]
  },
  {
   "cell_type": "code",
   "execution_count": null,
   "id": "ecdf5b8e-4e25-44c4-9e4a-3b12bb51c6cb",
   "metadata": {},
   "outputs": [],
   "source": []
  }
 ],
 "metadata": {
  "kernelspec": {
   "display_name": "R",
   "language": "R",
   "name": "ir"
  },
  "language_info": {
   "codemirror_mode": "r",
   "file_extension": ".r",
   "mimetype": "text/x-r-source",
   "name": "R",
   "pygments_lexer": "r",
   "version": "4.3.3"
  }
 },
 "nbformat": 4,
 "nbformat_minor": 5
}
