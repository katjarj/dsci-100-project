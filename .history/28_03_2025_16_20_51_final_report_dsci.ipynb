{
 "cells": [
  {
   "cell_type": "code",
   "execution_count": null,
   "id": "09b73d55-6a1e-4645-96d5-38cc89246b7e",
   "metadata": {},
   "outputs": [],
   "source": [
    "library(tidyverse)"
   ]
  },
  {
   "cell_type": "code",
   "execution_count": null,
   "id": "199b3183-d5d9-456b-8d72-9b594466f10d",
   "metadata": {},
   "outputs": [],
   "source": [
    "players <- read_csv(\"https://raw.githubusercontent.com/katjarj/dsci-100-project/refs/heads/main/players.csv\")\n",
    "sessions <- read_csv(\"https://raw.githubusercontent.com/katjarj/dsci-100-project/refs/heads/main/sessions.csv\")"
   ]
  },
  {
   "cell_type": "code",
   "execution_count": null,
   "id": "1a1fcf89-0589-44e1-a04c-35f852d53c3d",
   "metadata": {},
   "outputs": [],
   "source": [
    "head(players)\n",
    "head(sessions)"
   ]
  },
  {
   "cell_type": "code",
   "execution_count": null,
   "id": "7d317d35-a237-4a70-acec-b94cc4b5a8fc",
   "metadata": {},
   "outputs": [],
   "source": []
  }
 ],
 "metadata": {
  "kernelspec": {
   "display_name": "R",
   "language": "R",
   "name": "ir"
  },
  "language_info": {
   "codemirror_mode": "r",
   "file_extension": ".r",
   "mimetype": "text/x-r-source",
   "name": "R",
   "pygments_lexer": "r",
   "version": "4.3.3"
  }
 },
 "nbformat": 4,
 "nbformat_minor": 5
}
