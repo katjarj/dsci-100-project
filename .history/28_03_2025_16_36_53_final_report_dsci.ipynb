{
 "cells": [
  {
   "cell_type": "markdown",
   "id": "2f0888e6-685d-4119-a104-907d413c2694",
   "metadata": {},
   "source": [
    "# DSCI 100 Term Project: Final Report"
   ]
  },
  {
   "cell_type": "markdown",
   "id": "863c3eda-773d-46b8-8f2e-ee4a448a2335",
   "metadata": {},
   "source": [
    "### Introduction \n",
    "\n",
    "This project revolves around data collected by a research group in Computer Science at UBC, led by Frank Wood, surrounding how people play video games. The research team has set up a Minecraft server—which they call PLAICraft—that records players' actions as they navigate through the world. This project seeks to analyze the team's data to assist the researchers in targeting their recruitment efforts to the right audiences.\n",
    "\n",
    "In this project, we are analyzing the data to answer the question: **Can a player's age predict the number of hours they spend playing PLAIcraft?**"
   ]
  },
  {
   "cell_type": "code",
   "execution_count": null,
   "id": "09b73d55-6a1e-4645-96d5-38cc89246b7e",
   "metadata": {},
   "outputs": [],
   "source": [
    "library(tidyverse)"
   ]
  },
  {
   "cell_type": "code",
   "execution_count": null,
   "id": "199b3183-d5d9-456b-8d72-9b594466f10d",
   "metadata": {},
   "outputs": [],
   "source": [
    "players <- read_csv(\"https://raw.githubusercontent.com/katjarj/dsci-100-project/refs/heads/main/players.csv\")\n",
    "sessions <- read_csv(\"https://raw.githubusercontent.com/katjarj/dsci-100-project/refs/heads/main/sessions.csv\")"
   ]
  },
  {
   "cell_type": "code",
   "execution_count": null,
   "id": "1a1fcf89-0589-44e1-a04c-35f852d53c3d",
   "metadata": {},
   "outputs": [],
   "source": [
    "head(players)\n",
    "head(sessions)"
   ]
  },
  {
   "cell_type": "code",
   "execution_count": null,
   "id": "7d317d35-a237-4a70-acec-b94cc4b5a8fc",
   "metadata": {},
   "outputs": [],
   "source": []
  }
 ],
 "metadata": {
  "kernelspec": {
   "display_name": "R",
   "language": "R",
   "name": "ir"
  },
  "language_info": {
   "codemirror_mode": "r",
   "file_extension": ".r",
   "mimetype": "text/x-r-source",
   "name": "R",
   "pygments_lexer": "r",
   "version": "4.3.3"
  }
 },
 "nbformat": 4,
 "nbformat_minor": 5
}
