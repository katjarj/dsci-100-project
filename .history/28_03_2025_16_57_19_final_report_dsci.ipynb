{
 "cells": [
  {
   "cell_type": "markdown",
   "id": "2f0888e6-685d-4119-a104-907d413c2694",
   "metadata": {},
   "source": [
    "# DSCI 100 Term Project: Final Report\n"
   ]
  },
  {
   "cell_type": "markdown",
   "id": "863c3eda-773d-46b8-8f2e-ee4a448a2335",
   "metadata": {},
   "source": [
    "## Introduction \n",
    "---\n",
    "\n",
    "### Contributors\n",
    "\n",
    "- Abdullah Al Zahid — 58730219\n",
    "- Benson Huang — 21936661\n",
    "- Katja Radovic-Jonsson — 39575964\n",
    "- Millie Sun — 19927367\n",
    "\n",
    "### Purpose\n",
    "This project revolves around data collected by a research group in Computer Science at UBC, led by Frank Wood, surrounding how people play video games. The research team has set up a Minecraft server—which they call PLAICraft—that records players' actions as they navigate through the world. This project seeks to analyze the team's data to assist the researchers in targeting their recruitment efforts to the right audiences.\n",
    "\n",
    "### Question\n",
    "\n",
    "In this project, we are analyzing the data to answer the question: **Can a player's age predict the number of hours they spend playing PLAIcraft?**\n",
    "\n",
    "### Analyzing the Dataset\n",
    "\n",
    "To answer this question, we will be using data from the provided `players.csv` data set—specifically, we will need the `Age` and `played_hours` variables.\n",
    "\n",
    "First, we load in the data."
   ]
  },
  {
   "cell_type": "code",
   "execution_count": null,
   "id": "09b73d55-6a1e-4645-96d5-38cc89246b7e",
   "metadata": {},
   "outputs": [],
   "source": [
    "library(tidyverse)"
   ]
  },
  {
   "cell_type": "code",
   "execution_count": null,
   "id": "199b3183-d5d9-456b-8d72-9b594466f10d",
   "metadata": {},
   "outputs": [],
   "source": [
    "players <- read_csv(\"https://raw.githubusercontent.com/katjarj/dsci-100-project/refs/heads/main/players.csv\")"
   ]
  },
  {
   "cell_type": "code",
   "execution_count": null,
   "id": "1a1fcf89-0589-44e1-a04c-35f852d53c3d",
   "metadata": {},
   "outputs": [],
   "source": [
    "head(players)"
   ]
  },
  {
   "cell_type": "markdown",
   "id": "82cbac8c-caaa-45c6-a779-dfe0f809a4e4",
   "metadata": {},
   "source": [
    "Observing the `players.csv` data frame, we see that is has the following characteristics:\n",
    "\n",
    "**Rows (observations):** 196 \n",
    "\n",
    "**Columns (variables):** 7 \n",
    "\n",
    "**Variable names:** \n",
    "- `experience` \\<chr>: the level of Minecraft experience of the player\n",
    "- `subscribe` \\<lgl>: whether the player is subscribed\n",
    "- `hashedEmail` \\<chr>: a unique token given to the user based on their email\n",
    "- `played_hours` \\<dbl>: number of hours played\n",
    "- `name` \\<chr>: player's name\n",
    "- `gender` \\<chr>: player's gender\n",
    "- `Age` \\<dbl>: player's age\n",
    "\n",
    "**Potential issues:**\n",
    "- The `experience` column is a subjective measure of how advanced the player is—we don't know how accurate the values are.\n",
    "- We don't know the order in which the experience categories are sorted. For example, does Pro come before Veteran? We have no way of knowing.\n",
    "- There are some missing values in the `Age` data, which I will have to remove for my calculations.\n",
    "\n",
    "We can now compute summary statistics on each of the numeric columns, removing NA values as needed:"
   ]
  },
  {
   "cell_type": "code",
   "execution_count": null,
   "id": "4decd2db-941c-4a6a-903a-28fa163e3f72",
   "metadata": {},
   "outputs": [],
   "source": [
    "summary_stats_players <- players |>\n",
    "    summarize(avg_played_hours = mean(played_hours),\n",
    "              max_played_hours = max(played_hours),\n",
    "              min_played_hours = min(played_hours),\n",
    "              avg_age = mean(Age, na.rm = TRUE),\n",
    "              max_age = max(Age, na.rm = TRUE),\n",
    "              min_age = min(Age, na.rm = TRUE))\n",
    "summary_stats_players"
   ]
  },
  {
   "cell_type": "markdown",
   "id": "8df28b19-2494-488a-815e-c7160d4cbcb0",
   "metadata": {},
   "source": [
    "We can now see that the mean, maximum, and minimum values of `played_hours` are 5.845918, 223.1, and 0, respectively."
   ]
  },
  {
   "cell_type": "markdown",
   "id": "5b6a4bbe-559a-424c-a1a2-b12fee67a300",
   "metadata": {},
   "source": [
    "## Methods\n",
    "---"
   ]
  },
  {
   "cell_type": "markdown",
   "id": "71dffa8c-123d-4530-9c37-ba699968ac30",
   "metadata": {},
   "source": [
    "In order to understand how we need to analyze the data, we need to clean and wrangle the data and perform an exploratory analysis on it.\n",
    "\n",
    "We begin by wrangling the data such that it can be easil"
   ]
  }
 ],
 "metadata": {
  "kernelspec": {
   "display_name": "R",
   "language": "R",
   "name": "ir"
  },
  "language_info": {
   "codemirror_mode": "r",
   "file_extension": ".r",
   "mimetype": "text/x-r-source",
   "name": "R",
   "pygments_lexer": "r",
   "version": "4.3.3"
  }
 },
 "nbformat": 4,
 "nbformat_minor": 5
}
