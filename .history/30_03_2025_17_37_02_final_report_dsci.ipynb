{
 "cells": [
  {
   "cell_type": "markdown",
   "id": "2f0888e6-685d-4119-a104-907d413c2694",
   "metadata": {},
   "source": [
    "# DSCI 100 Term Project: Final Report\n"
   ]
  },
  {
   "cell_type": "markdown",
   "id": "863c3eda-773d-46b8-8f2e-ee4a448a2335",
   "metadata": {},
   "source": [
    "## Introduction \n",
    "---\n",
    "\n",
    "### Contributors (Group 010-5)\n",
    "\n",
    "- Abdullah Al Zahid — 58730219\n",
    "- Benson Huang — 21936661\n",
    "- Katja Radovic-Jonsson — 39575964\n",
    "- Millie Sun — 19927367\n",
    "\n",
    "### Purpose\n",
    "This project revolves around data collected by a research group in Computer Science at UBC, led by Frank Wood, surrounding how people play video games. The research team has set up a Minecraft server—which they call PLAICraft—that records players' actions as they navigate through the world. This project seeks to analyze the team's data to assist the researchers in targeting their recruitment efforts to the right audiences.\n",
    "\n",
    "### Question\n",
    "\n",
    "In this project, we are analyzing the data to answer the question: **Can a player's age predict the number of hours they spend playing PLAIcraft?**\n",
    "\n",
    "### Analyzing the Dataset\n",
    "\n",
    "To answer this question, we will be using data from the provided `players.csv` data set—specifically, we will need the `Age` and `played_hours` variables.\n",
    "\n",
    "First, we load in the data."
   ]
  },
  {
   "cell_type": "code",
   "execution_count": null,
   "id": "09b73d55-6a1e-4645-96d5-38cc89246b7e",
   "metadata": {},
   "outputs": [],
   "source": [
    "library(tidyverse)"
   ]
  },
  {
   "cell_type": "code",
   "execution_count": null,
   "id": "199b3183-d5d9-456b-8d72-9b594466f10d",
   "metadata": {},
   "outputs": [],
   "source": [
    "players <- read_csv(\"https://raw.githubusercontent.com/katjarj/dsci-100-project/refs/heads/main/players.csv\")"
   ]
  },
  {
   "cell_type": "code",
   "execution_count": null,
   "id": "1a1fcf89-0589-44e1-a04c-35f852d53c3d",
   "metadata": {},
   "outputs": [],
   "source": [
    "head(players)"
   ]
  },
  {
   "cell_type": "markdown",
   "id": "82cbac8c-caaa-45c6-a779-dfe0f809a4e4",
   "metadata": {},
   "source": [
    "Observing the `players.csv` data frame, we see that is has the following characteristics:\n",
    "\n",
    "**Rows (observations):** 196 \n",
    "\n",
    "**Columns (variables):** 7 \n",
    "\n",
    "**Variable names:** \n",
    "- `experience` \\<chr>: the level of Minecraft experience of the player\n",
    "- `subscribe` \\<lgl>: whether the player is subscribed\n",
    "- `hashedEmail` \\<chr>: a unique token given to the user based on their email\n",
    "- `played_hours` \\<dbl>: number of hours played\n",
    "- `name` \\<chr>: player's name\n",
    "- `gender` \\<chr>: player's gender\n",
    "- `Age` \\<dbl>: player's age\n",
    "\n",
    "**Potential issues:**\n",
    "- The `experience` column is a subjective measure of how advanced the player is—we don't know how accurate the values are.\n",
    "- We don't know the order in which the experience categories are sorted. For example, does Pro come before Veteran? We have no way of knowing.\n",
    "- There are some missing values in the `Age` data, which I will have to remove for my calculations.\n",
    "\n",
    "We can now compute summary statistics on each of the numeric columns, removing NA values as needed:"
   ]
  },
  {
   "cell_type": "code",
   "execution_count": null,
   "id": "4decd2db-941c-4a6a-903a-28fa163e3f72",
   "metadata": {},
   "outputs": [],
   "source": [
    "summary_stats_players <- players |>\n",
    "    summarize(avg_played_hours = mean(played_hours),\n",
    "              max_played_hours = max(played_hours),\n",
    "              min_played_hours = min(played_hours),\n",
    "              avg_age = mean(Age, na.rm = TRUE),\n",
    "              max_age = max(Age, na.rm = TRUE),\n",
    "              min_age = min(Age, na.rm = TRUE))\n",
    "summary_stats_players"
   ]
  },
  {
   "cell_type": "markdown",
   "id": "8df28b19-2494-488a-815e-c7160d4cbcb0",
   "metadata": {},
   "source": [
    "We can now see that the mean, maximum, and minimum values of `played_hours` are 5.845918, 223.1, and 0, respectively."
   ]
  },
  {
   "cell_type": "markdown",
   "id": "5b6a4bbe-559a-424c-a1a2-b12fee67a300",
   "metadata": {},
   "source": [
    "## Methods\n",
    "---"
   ]
  },
  {
   "cell_type": "markdown",
   "id": "71dffa8c-123d-4530-9c37-ba699968ac30",
   "metadata": {},
   "source": [
    "In order to understand how we need to analyze the data, we need to clean and wrangle the data and perform an exploratory analysis on it.\n",
    "\n",
    "### Wrangling\n",
    "\n",
    "We begin by wrangling the data such that it can be easily visualized and analyzed."
   ]
  },
  {
   "cell_type": "code",
   "execution_count": null,
   "id": "772727a4-f371-4b87-bd5a-ed3b0f259d7e",
   "metadata": {},
   "outputs": [],
   "source": [
    "players_wrangled <- players |>\n",
    "    rename(age = Age) |>\n",
    "    drop_na()\n",
    "head(players_wrangled)"
   ]
  },
  {
   "cell_type": "markdown",
   "id": "5a39728d-9c91-4b39-8f90-769c50e97377",
   "metadata": {},
   "source": [
    "We did this by renaming `Age` to `age` for better consistency, and omitting NA values in the data.\n",
    "\n",
    "The `players.csv` data is now ready for visualization."
   ]
  },
  {
   "cell_type": "markdown",
   "id": "dc2aa54d-fb3f-499f-8340-bec8b8dd47fc",
   "metadata": {},
   "source": [
    "### Exploratory Visualization\n",
    "\n",
    "To explore this data set, we created a scatter plot of the players' ages and their respective time spent playing the game."
   ]
  },
  {
   "cell_type": "code",
   "execution_count": null,
   "id": "6a2fe14b-f939-4052-96be-6c3ab0db0520",
   "metadata": {},
   "outputs": [],
   "source": [
    "players_plot <- players_wrangled |>\n",
    "    ggplot(aes(x = age, y = played_hours)) +\n",
    "    geom_point() +\n",
    "    xlab(\"Player Age\") +\n",
    "    ylab(\"Hours Played\") +\n",
    "    labs(caption = \"Figure 1\") +\n",
    "    ggtitle(\"Time spent playing PLAIcraft vs. player age\") +\n",
    "    theme(text = element_text(size = 15))\n",
    "players_plot"
   ]
  },
  {
   "cell_type": "markdown",
   "id": "1259b797-b404-4af3-94c0-1c574d2e0109",
   "metadata": {},
   "source": [
    "We can see from Figure 1 that there is a large spike in the number of hours played somewhere between ages 15 and 20. "
   ]
  },
  {
   "cell_type": "markdown",
   "id": "1f3b4154-9878-4e22-9e52-84a843c27c2a",
   "metadata": {},
   "source": [
    "We also created a histogram of the distribution of player ages across the data set, which gives us a better idea of how the data is skewed."
   ]
  },
  {
   "cell_type": "code",
   "execution_count": null,
   "id": "badf07e6-69fa-48b0-8570-18a6bbd30004",
   "metadata": {},
   "outputs": [],
   "source": [
    "players_hist <- players_wrangled |>\n",
    "    ggplot(aes(x = age)) +\n",
    "    geom_histogram(binwidth = 1) +\n",
    "    xlab(\"Player Age\") +\n",
    "    ylab(\"Number of Individuals\") +\n",
    "    labs(caption = \"Figure 2\") + \n",
    "    ggtitle(\"Number of participants by player age\") +\n",
    "    theme(text = element_text(size = 15))\n",
    "players_hist"
   ]
  },
  {
   "cell_type": "markdown",
   "id": "ade6b81a-4743-48fc-b6d1-137eff7fe6fe",
   "metadata": {},
   "source": [
    "Figure 2 tells us that there is significantly more data from users around the age of 17. This is something we may need to consider when performing our data analysis."
   ]
  },
  {
   "cell_type": "markdown",
   "id": "1f727921-19aa-4dc6-9e61-7f4ce50defd8",
   "metadata": {},
   "source": [
    "### Data Analysis"
   ]
  },
  {
   "cell_type": "markdown",
   "id": "de081ecd-0a3d-4aa8-9001-7cdfad00dd8d",
   "metadata": {},
   "source": [
    "Due to the nonlinear, numerical nature of the data we're trying to find, we decided to use KNN regression for our data analysis. We first set a seed for reproducibility purposes, then perform the analysis."
   ]
  },
  {
   "cell_type": "code",
   "execution_count": null,
   "id": "2101eb06-9b12-49fd-ac56-46aadf53fc96",
   "metadata": {},
   "outputs": [],
   "source": [
    "library(tidymodels)\n",
    "\n",
    "# Set seed for reproducibility\n",
    "set.seed(123)\n",
    "\n",
    "# Split data into training (75%) and testing (25%) sets.\n",
    "# Stratify by played_hours to maintain a similar distribution in both sets.\n",
    "player_split <- initial_split(players_wrangled, prop = 0.75, strata = played_hours)\n",
    "player_train <- training(player_split)\n",
    "player_test <- testing(player_split)\n",
    "\n",
    "# Create a recipe to preprocess the data.\n",
    "# Here we center and scale the predictor 'age'.\n",
    "player_recipe <- recipe(played_hours ~ age, data = player_train) |>\n",
    "  step_scale(all_predictors()) |>\n",
    "  step_center(all_predictors())\n",
    "\n",
    "# Model Specification with Tuning\n",
    "player_spec <- nearest_neighbor(weight_func = \"rectangular\",\n",
    "                              neighbors = tune()) |>\n",
    "  set_engine(\"kknn\") |>\n",
    "  set_mode(\"regression\")\n",
    "\n",
    "# Resampling Strategy\n",
    "player_vfold <- vfold_cv(player_train, v = 5, strata = played_hours)\n",
    "\n",
    "# Create Workflow\n",
    "player_wkflw <- workflow() |>\n",
    "  add_recipe(player_recipe) |>\n",
    "  add_model(player_spec)\n",
    "\n",
    "player_wkflw"
   ]
  },
  {
   "cell_type": "code",
   "execution_count": null,
   "id": "2a9e6f18-cb48-44be-b4ec-198b238227bf",
   "metadata": {},
   "outputs": [],
   "source": [
    "# Model Tuning\n",
    "gridvals <- tibble(neighbors = seq(from = 1, to = 110, by = 3))\n",
    "\n",
    "# Collect RMSE metrics from tuning results\n",
    "player_results <- player_wkflw |>\n",
    "  tune_grid(resamples = player_vfold, grid = gridvals) |>\n",
    "  collect_metrics() |>\n",
    "  filter(.metric == \"rmse\")\n",
    "\n",
    "player_results"
   ]
  },
  {
   "cell_type": "code",
   "execution_count": null,
   "id": "95f953cd-a6f8-4665-a152-be60a0456d64",
   "metadata": {},
   "outputs": [],
   "source": [
    "# show only the row of minimum RMSPE\n",
    "player_min <- player_results |>\n",
    "  filter(mean == min(mean))\n",
    "\n",
    "player_min"
   ]
  },
  {
   "cell_type": "code",
   "execution_count": null,
   "id": "75af7d09-be8b-4016-ae66-c4eb94fde897",
   "metadata": {},
   "outputs": [],
   "source": [
    "# Extract the best number of neighbors (k) that minimizes the RMSE\n",
    "kmin <- player_min |> pull(neighbors)\n",
    "\n",
    "# Final Model Training\n",
    "player_spec <- nearest_neighbor(weight_func = \"rectangular\", neighbors = kmin) |>\n",
    "  set_engine(\"kknn\") |>\n",
    "  set_mode(\"regression\")\n",
    "\n",
    "# Fit the final workflow on the training data\n",
    "player_fit <- workflow() |>\n",
    "  add_recipe(player_recipe) |>\n",
    "  add_model(player_spec) |>\n",
    "  fit(data = player_train)\n",
    "\n",
    "# Model Evaluation on Test Data\n",
    "player_summary <- player_fit |>\n",
    "  predict(player_test) |>\n",
    "  bind_cols(player_test) |>\n",
    "  metrics(truth = played_hours, estimate = .pred) |>\n",
    "  filter(.metric == 'rmse')\n",
    "\n",
    "player_summary"
   ]
  },
  {
   "cell_type": "code",
   "execution_count": null,
   "id": "fa88d4df-2265-4a5d-b739-d99ae1d78e18",
   "metadata": {},
   "outputs": [],
   "source": [
    "# Generate Prediction Grid for Visualization\n",
    "played_hours_prediction_grid <- tibble(\n",
    "    age = seq(\n",
    "        from = players_wrangled |> pull(age) |> min(na.rm = TRUE),\n",
    "        to = players_wrangled |> pull(age) |> max(na.rm = TRUE),\n",
    "    )\n",
    ")\n",
    "\n",
    "player_preds <- player_fit |>\n",
    "  predict(played_hours_prediction_grid) |>\n",
    "  bind_cols(played_hours_prediction_grid)\n",
    "\n",
    "# Plot Actual Data and Predictions\n",
    "plot_final <- ggplot(players_wrangled, aes(x = age, y = played_hours)) +\n",
    "  geom_point(alpha = 0.4) +\n",
    "  geom_line(data = player_preds,\n",
    "            mapping = aes(x = age, y = .pred),\n",
    "            color = \"steelblue\", \n",
    "            linetype=\"dotted\", \n",
    "            linewidth = 1) +\n",
    "  xlab(\"player Age\") +\n",
    "  ylab(\"Hours played\") +\n",
    "  ggtitle(\"predict played hours\") +\n",
    "  theme(text = element_text(size = 12))\n",
    "\n",
    "plot_final"
   ]
  },
  {
   "cell_type": "code",
   "execution_count": null,
   "id": "7f23ab49-ae6e-4130-a3ec-61b7191516cb",
   "metadata": {},
   "outputs": [],
   "source": [
    "player_test"
   ]
  },
  {
   "cell_type": "code",
   "execution_count": null,
   "id": "1b654fe9-7c23-4606-b2fa-7b254a10c14b",
   "metadata": {},
   "outputs": [],
   "source": []
  }
 ],
 "metadata": {
  "kernelspec": {
   "display_name": "R",
   "language": "R",
   "name": "ir"
  },
  "language_info": {
   "codemirror_mode": "r",
   "file_extension": ".r",
   "mimetype": "text/x-r-source",
   "name": "R",
   "pygments_lexer": "r",
   "version": "4.3.3"
  }
 },
 "nbformat": 4,
 "nbformat_minor": 5
}
